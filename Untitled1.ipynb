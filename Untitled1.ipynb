{
 "cells": [
  {
   "cell_type": "code",
   "execution_count": 1,
   "id": "615f6dd9",
   "metadata": {},
   "outputs": [
    {
     "name": "stdout",
     "output_type": "stream",
     "text": [
      "Requirement already satisfied: opencv-python in c:\\users\\jeeva\\anaconda3\\lib\\site-packages (4.8.0.76)\n",
      "Requirement already satisfied: numpy>=1.17.0 in c:\\users\\jeeva\\anaconda3\\lib\\site-packages (from opencv-python) (1.20.1)\n"
     ]
    }
   ],
   "source": [
    "!pip install opencv-python"
   ]
  },
  {
   "cell_type": "code",
   "execution_count": 2,
   "id": "543a33ad",
   "metadata": {},
   "outputs": [],
   "source": [
    "# Import the packages\n",
    "import cv2\n"
   ]
  },
  {
   "cell_type": "code",
   "execution_count": 3,
   "id": "f8a8236f",
   "metadata": {},
   "outputs": [],
   "source": [
    "i=cv2.imread('land.jpeg',-1)\n",
    "gray=cv2.cvtColor(i,cv2.COLOR_BGR2GRAY)\n",
    "img = cv2.GaussianBlur(gray,(3,3),0)\n"
   ]
  },
  {
   "cell_type": "code",
   "execution_count": 4,
   "id": "25916371",
   "metadata": {},
   "outputs": [],
   "source": [
    "# SOBEL EDGE DETECTOR AND TO SHOW THE DETECTED IMAGE\n",
    "sobel_x=cv2.Sobel(img,cv2.CV_64F,1,0,ksize=5)\n",
    "cv2.imshow('sobel_x',sobel_x)\n",
    "cv2.waitKey(0)\n",
    "cv2.destroyAllWindows()\n",
    "sobel_y=cv2.Sobel(img,cv2.CV_64F,0,1,ksize=5)\n",
    "cv2.imshow('sobel_y',sobel_y)\n",
    "cv2.waitKey(0)\n",
    "cv2.destroyAllWindows()\n",
    "sobel_xy=cv2.Sobel(img,cv2.CV_64F,1,1,ksize=5)\n",
    "cv2.imshow('sobel_xy',sobel_xy)\n",
    "cv2.waitKey(0)\n",
    "cv2.destroyAllWindows()"
   ]
  },
  {
   "cell_type": "code",
   "execution_count": 5,
   "id": "141a1c4f",
   "metadata": {},
   "outputs": [],
   "source": [
    "# LAPLACIAN EDGE DETECTOR AND TO SHOW THE DETECTED IMAGE\n",
    "rgb_image = cv2.cvtColor(i,cv2.COLOR_BGR2RGB)\n",
    "laplacian_operator = cv2.Laplacian(rgb_image,cv2.CV_64F)\n",
    "cv2.imshow('laplacian_operator',laplacian_operator)\n",
    "cv2.waitKey(0)\n",
    "cv2.destroyAllWindows()"
   ]
  },
  {
   "cell_type": "code",
   "execution_count": 6,
   "id": "eb70001d",
   "metadata": {},
   "outputs": [],
   "source": [
    "canny_edges = cv2.Canny(img, 120, 150)\n",
    "cv2.imshow('canny',canny_edges)\n",
    "cv2.waitKey(0)\n",
    "cv2.destroyAllWindows()"
   ]
  },
  {
   "cell_type": "code",
   "execution_count": null,
   "id": "b71d6f0d",
   "metadata": {},
   "outputs": [],
   "source": []
  }
 ],
 "metadata": {
  "kernelspec": {
   "display_name": "Python 3",
   "language": "python",
   "name": "python3"
  },
  "language_info": {
   "codemirror_mode": {
    "name": "ipython",
    "version": 3
   },
   "file_extension": ".py",
   "mimetype": "text/x-python",
   "name": "python",
   "nbconvert_exporter": "python",
   "pygments_lexer": "ipython3",
   "version": "3.8.8"
  }
 },
 "nbformat": 4,
 "nbformat_minor": 5
}
